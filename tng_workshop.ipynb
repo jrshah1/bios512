{
  "nbformat": 4,
  "nbformat_minor": 0,
  "metadata": {
    "colab": {
      "provenance": [],
      "authorship_tag": "ABX9TyPlurvgHHyfQCxmJL5qVfih",
      "include_colab_link": true
    },
    "kernelspec": {
      "name": "ir",
      "display_name": "R"
    },
    "language_info": {
      "name": "R"
    }
  },
  "cells": [
    {
      "cell_type": "markdown",
      "metadata": {
        "id": "view-in-github",
        "colab_type": "text"
      },
      "source": [
        "<a href=\"https://colab.research.google.com/github/jrshah1/bios512/blob/main/tng_workshop.ipynb\" target=\"_parent\"><img src=\"https://colab.research.google.com/assets/colab-badge.svg\" alt=\"Open In Colab\"/></a>"
      ]
    },
    {
      "cell_type": "code",
      "execution_count": 7,
      "metadata": {
        "id": "cuHuP8p5XODp"
      },
      "outputs": [],
      "source": [
        "library(tidyverse)\n",
        "\n",
        "dialogs <- read.csv(\"/content/tng.csv\")"
      ]
    },
    {
      "cell_type": "code",
      "source": [
        "names(dialogs)"
      ],
      "metadata": {
        "colab": {
          "base_uri": "https://localhost:8080/",
          "height": 34
        },
        "id": "aicuOADfXUcg",
        "outputId": "cc46d261-798f-4655-8906-ab934924a934"
      },
      "execution_count": 8,
      "outputs": [
        {
          "output_type": "display_data",
          "data": {
            "text/html": [
              "<style>\n",
              ".list-inline {list-style: none; margin:0; padding: 0}\n",
              ".list-inline>li {display: inline-block}\n",
              ".list-inline>li:not(:last-child)::after {content: \"\\00b7\"; padding: 0 .5ex}\n",
              "</style>\n",
              "<ol class=list-inline><li>'episode_number'</li><li>'character'</li><li>'dialog'</li></ol>\n"
            ],
            "text/markdown": "1. 'episode_number'\n2. 'character'\n3. 'dialog'\n\n\n",
            "text/latex": "\\begin{enumerate*}\n\\item 'episode\\_number'\n\\item 'character'\n\\item 'dialog'\n\\end{enumerate*}\n",
            "text/plain": [
              "[1] \"episode_number\" \"character\"      \"dialog\"        "
            ]
          },
          "metadata": {}
        }
      ]
    },
    {
      "cell_type": "code",
      "source": [
        "dialogs %>% group_by(character) %>% tally() %>% arrange(desc(n))"
      ],
      "metadata": {
        "id": "cUWAzM7IYR1y",
        "colab": {
          "base_uri": "https://localhost:8080/",
          "height": 1000
        },
        "outputId": "1f7e8c47-6888-4cbb-8f44-8e5afbeb44bc"
      },
      "execution_count": 9,
      "outputs": [
        {
          "output_type": "display_data",
          "data": {
            "text/html": [
              "<table class=\"dataframe\">\n",
              "<caption>A tibble: 914 × 2</caption>\n",
              "<thead>\n",
              "\t<tr><th scope=col>character</th><th scope=col>n</th></tr>\n",
              "\t<tr><th scope=col>&lt;chr&gt;</th><th scope=col>&lt;int&gt;</th></tr>\n",
              "</thead>\n",
              "<tbody>\n",
              "\t<tr><td>PICARD        </td><td>15180</td></tr>\n",
              "\t<tr><td>RIKER         </td><td> 8843</td></tr>\n",
              "\t<tr><td>DATA          </td><td> 7390</td></tr>\n",
              "\t<tr><td>GEORDI        </td><td> 5498</td></tr>\n",
              "\t<tr><td>WORF          </td><td> 4429</td></tr>\n",
              "\t<tr><td>BEVERLY       </td><td> 4035</td></tr>\n",
              "\t<tr><td>TROI          </td><td> 3922</td></tr>\n",
              "\t<tr><td>WESLEY        </td><td> 1664</td></tr>\n",
              "\t<tr><td>PULASKI       </td><td>  705</td></tr>\n",
              "\t<tr><td>TASHA         </td><td>  615</td></tr>\n",
              "\t<tr><td>GUINAN        </td><td>  610</td></tr>\n",
              "\t<tr><td>Q             </td><td>  573</td></tr>\n",
              "\t<tr><td>O'BRIEN       </td><td>  551</td></tr>\n",
              "\t<tr><td>COMPUTER VOICE</td><td>  505</td></tr>\n",
              "\t<tr><td>RO            </td><td>  458</td></tr>\n",
              "\t<tr><td>BARCLAY       </td><td>  421</td></tr>\n",
              "\t<tr><td>LWAXANA       </td><td>  385</td></tr>\n",
              "\t<tr><td>VASH          </td><td>  225</td></tr>\n",
              "\t<tr><td>ALEXANDER     </td><td>  221</td></tr>\n",
              "\t<tr><td>K'EHLEYR      </td><td>  221</td></tr>\n",
              "\t<tr><td>JELLICO       </td><td>  202</td></tr>\n",
              "\t<tr><td>LORE          </td><td>  183</td></tr>\n",
              "\t<tr><td>MORIARTY      </td><td>  182</td></tr>\n",
              "\t<tr><td>MRS. TROI     </td><td>  165</td></tr>\n",
              "\t<tr><td>SOREN         </td><td>  155</td></tr>\n",
              "\t<tr><td>AMANDA        </td><td>  140</td></tr>\n",
              "\t<tr><td>GOWRON        </td><td>  139</td></tr>\n",
              "\t<tr><td>LT. RIKER     </td><td>  137</td></tr>\n",
              "\t<tr><td>SCOTT         </td><td>  137</td></tr>\n",
              "\t<tr><td>KURN          </td><td>  131</td></tr>\n",
              "\t<tr><td>⋮</td><td>⋮</td></tr>\n",
              "\t<tr><td>PICARD.                  </td><td>1</td></tr>\n",
              "\t<tr><td>PORTAL FIGURE            </td><td>1</td></tr>\n",
              "\t<tr><td>Q SHADOW                 </td><td>1</td></tr>\n",
              "\t<tr><td>RIKER AND TASHA          </td><td>1</td></tr>\n",
              "\t<tr><td>RIKER'S COMM VOICE       </td><td>1</td></tr>\n",
              "\t<tr><td>RISON                    </td><td>1</td></tr>\n",
              "\t<tr><td>RONIN VOICE              </td><td>1</td></tr>\n",
              "\t<tr><td>SANTOS' COM VOICE        </td><td>1</td></tr>\n",
              "\t<tr><td>SECOND EDO BOY           </td><td>1</td></tr>\n",
              "\t<tr><td>SECOND LEADER            </td><td>1</td></tr>\n",
              "\t<tr><td>SECURITY GUARD COM VOICE </td><td>1</td></tr>\n",
              "\t<tr><td>SECURITY MAN             </td><td>1</td></tr>\n",
              "\t<tr><td>SERGANT                  </td><td>1</td></tr>\n",
              "\t<tr><td>SUPERNUMERARY            </td><td>1</td></tr>\n",
              "\t<tr><td>TARRANA                  </td><td>1</td></tr>\n",
              "\t<tr><td>TEMAREK                  </td><td>1</td></tr>\n",
              "\t<tr><td>THE ALIEN                </td><td>1</td></tr>\n",
              "\t<tr><td>THE GROUP                </td><td>1</td></tr>\n",
              "\t<tr><td>TOYA                     </td><td>1</td></tr>\n",
              "\t<tr><td>TRANSPORTER CHIEF'S VOICE</td><td>1</td></tr>\n",
              "\t<tr><td>TRANSPORTER OPERATOR     </td><td>1</td></tr>\n",
              "\t<tr><td>TRANSPORTER TECHNICIAN   </td><td>1</td></tr>\n",
              "\t<tr><td>TYLER'S VOICE            </td><td>1</td></tr>\n",
              "\t<tr><td>VOVAL                    </td><td>1</td></tr>\n",
              "\t<tr><td>WAGNOR                   </td><td>1</td></tr>\n",
              "\t<tr><td>WEAK VOICE               </td><td>1</td></tr>\n",
              "\t<tr><td>WESLEY COM VOICE         </td><td>1</td></tr>\n",
              "\t<tr><td>WOUNDED CREWMEMBER       </td><td>1</td></tr>\n",
              "\t<tr><td>YOUNG REPOTER            </td><td>1</td></tr>\n",
              "\t<tr><td>YOUNG RIKER              </td><td>1</td></tr>\n",
              "</tbody>\n",
              "</table>\n"
            ],
            "text/markdown": "\nA tibble: 914 × 2\n\n| character &lt;chr&gt; | n &lt;int&gt; |\n|---|---|\n| PICARD         | 15180 |\n| RIKER          |  8843 |\n| DATA           |  7390 |\n| GEORDI         |  5498 |\n| WORF           |  4429 |\n| BEVERLY        |  4035 |\n| TROI           |  3922 |\n| WESLEY         |  1664 |\n| PULASKI        |   705 |\n| TASHA          |   615 |\n| GUINAN         |   610 |\n| Q              |   573 |\n| O'BRIEN        |   551 |\n| COMPUTER VOICE |   505 |\n| RO             |   458 |\n| BARCLAY        |   421 |\n| LWAXANA        |   385 |\n| VASH           |   225 |\n| ALEXANDER      |   221 |\n| K'EHLEYR       |   221 |\n| JELLICO        |   202 |\n| LORE           |   183 |\n| MORIARTY       |   182 |\n| MRS. TROI      |   165 |\n| SOREN          |   155 |\n| AMANDA         |   140 |\n| GOWRON         |   139 |\n| LT. RIKER      |   137 |\n| SCOTT          |   137 |\n| KURN           |   131 |\n| ⋮ | ⋮ |\n| PICARD.                   | 1 |\n| PORTAL FIGURE             | 1 |\n| Q SHADOW                  | 1 |\n| RIKER AND TASHA           | 1 |\n| RIKER'S COMM VOICE        | 1 |\n| RISON                     | 1 |\n| RONIN VOICE               | 1 |\n| SANTOS' COM VOICE         | 1 |\n| SECOND EDO BOY            | 1 |\n| SECOND LEADER             | 1 |\n| SECURITY GUARD COM VOICE  | 1 |\n| SECURITY MAN              | 1 |\n| SERGANT                   | 1 |\n| SUPERNUMERARY             | 1 |\n| TARRANA                   | 1 |\n| TEMAREK                   | 1 |\n| THE ALIEN                 | 1 |\n| THE GROUP                 | 1 |\n| TOYA                      | 1 |\n| TRANSPORTER CHIEF'S VOICE | 1 |\n| TRANSPORTER OPERATOR      | 1 |\n| TRANSPORTER TECHNICIAN    | 1 |\n| TYLER'S VOICE             | 1 |\n| VOVAL                     | 1 |\n| WAGNOR                    | 1 |\n| WEAK VOICE                | 1 |\n| WESLEY COM VOICE          | 1 |\n| WOUNDED CREWMEMBER        | 1 |\n| YOUNG REPOTER             | 1 |\n| YOUNG RIKER               | 1 |\n\n",
            "text/latex": "A tibble: 914 × 2\n\\begin{tabular}{ll}\n character & n\\\\\n <chr> & <int>\\\\\n\\hline\n\t PICARD         & 15180\\\\\n\t RIKER          &  8843\\\\\n\t DATA           &  7390\\\\\n\t GEORDI         &  5498\\\\\n\t WORF           &  4429\\\\\n\t BEVERLY        &  4035\\\\\n\t TROI           &  3922\\\\\n\t WESLEY         &  1664\\\\\n\t PULASKI        &   705\\\\\n\t TASHA          &   615\\\\\n\t GUINAN         &   610\\\\\n\t Q              &   573\\\\\n\t O'BRIEN        &   551\\\\\n\t COMPUTER VOICE &   505\\\\\n\t RO             &   458\\\\\n\t BARCLAY        &   421\\\\\n\t LWAXANA        &   385\\\\\n\t VASH           &   225\\\\\n\t ALEXANDER      &   221\\\\\n\t K'EHLEYR       &   221\\\\\n\t JELLICO        &   202\\\\\n\t LORE           &   183\\\\\n\t MORIARTY       &   182\\\\\n\t MRS. TROI      &   165\\\\\n\t SOREN          &   155\\\\\n\t AMANDA         &   140\\\\\n\t GOWRON         &   139\\\\\n\t LT. RIKER      &   137\\\\\n\t SCOTT          &   137\\\\\n\t KURN           &   131\\\\\n\t ⋮ & ⋮\\\\\n\t PICARD.                   & 1\\\\\n\t PORTAL FIGURE             & 1\\\\\n\t Q SHADOW                  & 1\\\\\n\t RIKER AND TASHA           & 1\\\\\n\t RIKER'S COMM VOICE        & 1\\\\\n\t RISON                     & 1\\\\\n\t RONIN VOICE               & 1\\\\\n\t SANTOS' COM VOICE         & 1\\\\\n\t SECOND EDO BOY            & 1\\\\\n\t SECOND LEADER             & 1\\\\\n\t SECURITY GUARD COM VOICE  & 1\\\\\n\t SECURITY MAN              & 1\\\\\n\t SERGANT                   & 1\\\\\n\t SUPERNUMERARY             & 1\\\\\n\t TARRANA                   & 1\\\\\n\t TEMAREK                   & 1\\\\\n\t THE ALIEN                 & 1\\\\\n\t THE GROUP                 & 1\\\\\n\t TOYA                      & 1\\\\\n\t TRANSPORTER CHIEF'S VOICE & 1\\\\\n\t TRANSPORTER OPERATOR      & 1\\\\\n\t TRANSPORTER TECHNICIAN    & 1\\\\\n\t TYLER'S VOICE             & 1\\\\\n\t VOVAL                     & 1\\\\\n\t WAGNOR                    & 1\\\\\n\t WEAK VOICE                & 1\\\\\n\t WESLEY COM VOICE          & 1\\\\\n\t WOUNDED CREWMEMBER        & 1\\\\\n\t YOUNG REPOTER             & 1\\\\\n\t YOUNG RIKER               & 1\\\\\n\\end{tabular}\n",
            "text/plain": [
              "    character                 n    \n",
              "1   PICARD                    15180\n",
              "2   RIKER                      8843\n",
              "3   DATA                       7390\n",
              "4   GEORDI                     5498\n",
              "5   WORF                       4429\n",
              "6   BEVERLY                    4035\n",
              "7   TROI                       3922\n",
              "8   WESLEY                     1664\n",
              "9   PULASKI                     705\n",
              "10  TASHA                       615\n",
              "11  GUINAN                      610\n",
              "12  Q                           573\n",
              "13  O'BRIEN                     551\n",
              "14  COMPUTER VOICE              505\n",
              "15  RO                          458\n",
              "16  BARCLAY                     421\n",
              "17  LWAXANA                     385\n",
              "18  VASH                        225\n",
              "19  ALEXANDER                   221\n",
              "20  K'EHLEYR                    221\n",
              "21  JELLICO                     202\n",
              "22  LORE                        183\n",
              "23  MORIARTY                    182\n",
              "24  MRS. TROI                   165\n",
              "25  SOREN                       155\n",
              "26  AMANDA                      140\n",
              "27  GOWRON                      139\n",
              "28  LT. RIKER                   137\n",
              "29  SCOTT                       137\n",
              "30  KURN                        131\n",
              "⋮   ⋮                         ⋮    \n",
              "885 PICARD.                   1    \n",
              "886 PORTAL FIGURE             1    \n",
              "887 Q SHADOW                  1    \n",
              "888 RIKER AND TASHA           1    \n",
              "889 RIKER'S COMM VOICE        1    \n",
              "890 RISON                     1    \n",
              "891 RONIN VOICE               1    \n",
              "892 SANTOS' COM VOICE         1    \n",
              "893 SECOND EDO BOY            1    \n",
              "894 SECOND LEADER             1    \n",
              "895 SECURITY GUARD COM VOICE  1    \n",
              "896 SECURITY MAN              1    \n",
              "897 SERGANT                   1    \n",
              "898 SUPERNUMERARY             1    \n",
              "899 TARRANA                   1    \n",
              "900 TEMAREK                   1    \n",
              "901 THE ALIEN                 1    \n",
              "902 THE GROUP                 1    \n",
              "903 TOYA                      1    \n",
              "904 TRANSPORTER CHIEF'S VOICE 1    \n",
              "905 TRANSPORTER OPERATOR      1    \n",
              "906 TRANSPORTER TECHNICIAN    1    \n",
              "907 TYLER'S VOICE             1    \n",
              "908 VOVAL                     1    \n",
              "909 WAGNOR                    1    \n",
              "910 WEAK VOICE                1    \n",
              "911 WESLEY COM VOICE          1    \n",
              "912 WOUNDED CREWMEMBER        1    \n",
              "913 YOUNG REPOTER             1    \n",
              "914 YOUNG RIKER               1    "
            ]
          },
          "metadata": {}
        }
      ]
    },
    {
      "cell_type": "code",
      "source": [],
      "metadata": {
        "id": "q5kkCcrpY-CA"
      },
      "execution_count": null,
      "outputs": []
    }
  ]
}